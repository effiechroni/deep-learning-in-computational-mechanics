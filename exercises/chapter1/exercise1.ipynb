{
  "cells": [
    {
      "cell_type": "markdown",
      "id": "ce482b8bf733cac3",
      "metadata": {
        "id": "ce482b8bf733cac3"
      },
      "source": [
        "# Exercise 1 - Introduction to PyTorch"
      ]
    },
    {
      "cell_type": "markdown",
      "id": "8ffbf192-4ba9-4aa9-a90a-4974e829bc39",
      "metadata": {
        "id": "8ffbf192-4ba9-4aa9-a90a-4974e829bc39"
      },
      "source": [
        "### Task\n",
        "Familiarize yourself with the PyTorch framework by executing and modifying the different commands\n",
        "\n",
        "### Learning goals\n",
        "- Introduce PyTorch framework\n",
        "- Familiarize yourself with its basic syntax and some commands we will see frequently\n",
        "- Experiment with syntax"
      ]
    },
    {
      "cell_type": "code",
      "execution_count": 1,
      "id": "21ce013e-5489-4095-8050-bd23f7b9b729",
      "metadata": {
        "tags": [],
        "id": "21ce013e-5489-4095-8050-bd23f7b9b729"
      },
      "outputs": [],
      "source": [
        "import torch"
      ]
    },
    {
      "cell_type": "code",
      "execution_count": 2,
      "id": "a7758016-f870-4029-9e67-a0ca6f7213a8",
      "metadata": {
        "tags": [],
        "id": "a7758016-f870-4029-9e67-a0ca6f7213a8"
      },
      "outputs": [],
      "source": [
        "a = torch.tensor([[0., 2., 4.], [3., 5., 7.]])  # shape (2, 3)\n",
        "b = torch.zeros(3, 3, 3)  # shape (3, 3, 3)\n",
        "c = torch.linspace(0, 1, 10)  # shape (x)\n",
        "d = torch.ones(1, 3)  # shape (1, 3)"
      ]
    },
    {
      "cell_type": "code",
      "execution_count": 4,
      "id": "9c9ce1ce-3c4a-47bc-8d75-4d44231e78d9",
      "metadata": {
        "id": "9c9ce1ce-3c4a-47bc-8d75-4d44231e78d9",
        "outputId": "55e4cd3c-4479-49b4-f149-a6554a13cce1",
        "colab": {
          "base_uri": "https://localhost:8080/"
        }
      },
      "outputs": [
        {
          "output_type": "execute_result",
          "data": {
            "text/plain": [
              "tensor([2., 4.])"
            ]
          },
          "metadata": {},
          "execution_count": 4
        }
      ],
      "source": [
        "a.size()  # dimensions\n",
        "\n",
        "a[0, 0]  # 0th element\n",
        "a[:, 0]  # first order tensor along 0th dimension (returns all rows in 0th column)\n",
        "a[-1, -1]  # last element (7.)\n",
        "b[0, :, :]  # 0th second order tensor\n",
        "a[0, 1:3]  # last two elements of the 0th first order tensor (2., 4.)"
      ]
    },
    {
      "cell_type": "markdown",
      "id": "d7aeed5e-f85b-426a-8f6d-6f063177b762",
      "metadata": {
        "id": "d7aeed5e-f85b-426a-8f6d-6f063177b762"
      },
      "source": [
        "## Tensor Operations\n",
        "### Functional approach:\n",
        "**Note that a, b, c, and d remain unchanged**"
      ]
    },
    {
      "cell_type": "code",
      "execution_count": 5,
      "id": "0f483dbe-c635-471b-92ca-c59cc2d137c8",
      "metadata": {
        "id": "0f483dbe-c635-471b-92ca-c59cc2d137c8",
        "outputId": "a746a31f-94d0-469b-d87f-3f83b4bc9071",
        "colab": {
          "base_uri": "https://localhost:8080/"
        }
      },
      "outputs": [
        {
          "output_type": "execute_result",
          "data": {
            "text/plain": [
              "tensor([[ 1.0000, -0.4161, -0.6536],\n",
              "        [-0.9900,  0.2837,  0.7539]])"
            ]
          },
          "metadata": {},
          "execution_count": 5
        }
      ],
      "source": [
        "torch.cat((a, d), 0)  # return concatenation in dimension 0. (3, 3)\n",
        "torch.transpose(a, 0, 1)  # return a with dimensions 0 and 1 transposed (3, 2)\n",
        "torch.permute(b, (2, 1, 0))  # dimensions 0 and 2 are permuted\n",
        "torch.reshape(a, (1, 6))  # or c.view(1, 6) reshape to (1, 6)\n",
        "torch.unsqueeze(a, 0)  # creates an additional empty dimension (1, 2, 3)\n",
        "torch.squeeze(d, 0)  # removes first empty dimension (3)\n",
        "torch.flatten(b)  # flattens b (27)\n",
        "torch.ones_like(c)  # creates a tensor of ones with the shape of c\n",
        "torch.cos(a)  # applies cosine to each entry"
      ]
    },
    {
      "cell_type": "markdown",
      "id": "ee51dd9b-54ab-4926-aeba-02d829dde073",
      "metadata": {
        "id": "ee51dd9b-54ab-4926-aeba-02d829dde073"
      },
      "source": [
        "## Conversion to and from NumPy"
      ]
    },
    {
      "cell_type": "code",
      "execution_count": 6,
      "id": "14b82050-53de-41f4-ae52-b140d8da23e4",
      "metadata": {
        "id": "14b82050-53de-41f4-ae52-b140d8da23e4",
        "outputId": "cc0bc0f0-48c1-4a1c-cfd1-2ef11749cd11",
        "colab": {
          "base_uri": "https://localhost:8080/"
        }
      },
      "outputs": [
        {
          "output_type": "execute_result",
          "data": {
            "text/plain": [
              "array([ True,  True])"
            ]
          },
          "metadata": {},
          "execution_count": 6
        }
      ],
      "source": [
        "import numpy as np\n",
        "\n",
        "a = np.array([2., 3.])\n",
        "b = torch.from_numpy(a)  # convert numpy array to torch tensor\n",
        "c = b.numpy()  # convert to torch tensor from numpy array\n",
        "\n",
        "a == c"
      ]
    },
    {
      "cell_type": "markdown",
      "id": "53cf09e0-8dd5-4925-a8b9-891ab826773f",
      "metadata": {
        "id": "53cf09e0-8dd5-4925-a8b9-891ab826773f"
      },
      "source": [
        "## Grid Creation"
      ]
    },
    {
      "cell_type": "code",
      "execution_count": 7,
      "id": "18af3022-6f9d-46b7-9f53-43e0f93a32b1",
      "metadata": {
        "id": "18af3022-6f9d-46b7-9f53-43e0f93a32b1"
      },
      "outputs": [],
      "source": [
        "x = torch.linspace(0, 1, 10)  # shape (10)\n",
        "y = torch.linspace(0, 2, 5)  # shape (5)\n",
        "x, y = torch.meshgrid(x, y, indexing='ij')  # grid of shape (10, 5)"
      ]
    },
    {
      "cell_type": "markdown",
      "id": "72f09e1c-c051-456c-bd34-f149d3203018",
      "metadata": {
        "id": "72f09e1c-c051-456c-bd34-f149d3203018"
      },
      "source": [
        "## Gradient Computation\n",
        "**Theory is explained later in Chapter 3**"
      ]
    },
    {
      "cell_type": "markdown",
      "id": "c13188f1-e9be-4f3c-9dbc-0792acc345ce",
      "metadata": {
        "id": "c13188f1-e9be-4f3c-9dbc-0792acc345ce"
      },
      "source": [
        "$ \t\\boldsymbol{J}^\\intercal \\boldsymbol{v} =\n",
        "\t\\begin{pmatrix}\n",
        "\t\\frac{\\partial z(y_1)}{\\partial y_1} & \\dots & \\frac{\\partial z(y_1)}{\\partial y_{x}} \\\\\n",
        "\t\\vdots & \\ddots & \\vdots \\\\\n",
        "\t\\frac{\\partial z(y_{x})}{\\partial y_1} & \\dots & \\frac{\\partial z(y_{x})}{\\partial y_{x}}\n",
        "\t\\end{pmatrix}\n",
        "\t\\begin{pmatrix}\n",
        "\t1 \\\\ \\vdots \\\\ 1\n",
        "\t\\end{pmatrix}\n",
        "\t=\n",
        "\t\\begin{pmatrix}\n",
        "\t\\frac{\\partial z(y_1)}{\\partial y_1} & \\dots & 0 \\\\\n",
        "\t\\vdots & \\ddots & \\vdots \\\\\n",
        "\t0 & \\dots & \\frac{\\partial z(y_{x})}{\\partial y_{x}}\n",
        "\t\\end{pmatrix}\n",
        "\t\\begin{pmatrix}\n",
        "\t1 \\\\ \\vdots \\\\ 1\n",
        "\t\\end{pmatrix}\n",
        "\t=\n",
        "\t\\begin{pmatrix}\n",
        "\t\\frac{\\partial z(y_1)}{\\partial y_1} \\\\ \\vdots \\\\ \\frac{\\partial z(y_{x})}{\\partial y_{10}}\n",
        "\t\\end{pmatrix} $"
      ]
    },
    {
      "cell_type": "code",
      "execution_count": null,
      "id": "51142bdf-68e9-4363-b810-173b5e010a07",
      "metadata": {
        "id": "51142bdf-68e9-4363-b810-173b5e010a07"
      },
      "outputs": [],
      "source": [
        "x.requires_grad = True  # after construction - allows backpropogation\n",
        "y = torch.tensor([0.], requires_grad=True)  # during construction"
      ]
    },
    {
      "cell_type": "code",
      "execution_count": null,
      "id": "4b05b8b3-60ce-4a35-b158-f2bf285f096e",
      "metadata": {
        "id": "4b05b8b3-60ce-4a35-b158-f2bf285f096e"
      },
      "outputs": [],
      "source": [
        "## Member Variables\n",
        "x.data  # values stored in the tensor\n",
        "x.requires_grad  # boolean enabling computation graph\n",
        "x.grad  # value of the gradient\n",
        "x.grad_fn  # function handle storing previous operation\n",
        "x.is_leaf  # boolean stating if tensor is a leaf node (see Chapter 2)"
      ]
    },
    {
      "cell_type": "markdown",
      "id": "358d647c",
      "metadata": {
        "id": "358d647c"
      },
      "source": [
        "## Example gradients for simple functions"
      ]
    },
    {
      "cell_type": "code",
      "execution_count": null,
      "id": "ed93bf21-7103-4dce-ab19-03b5892a951a",
      "metadata": {
        "id": "ed93bf21-7103-4dce-ab19-03b5892a951a"
      },
      "outputs": [],
      "source": [
        "x = torch.linspace(0., 1., 20, requires_grad=True)\n",
        "y = 2 * x\n",
        "z = y ** 2\n",
        "\n",
        "y.retain_grad()  # otherwise gradient with respect to y will be deleted\n",
        "\n",
        "z.backward(torch.ones_like(z))  # differentiate z with respect to all variables used to create it\n",
        "\n",
        "dzdx = x.grad  # gradient of z with respect to x: 8 * x\n",
        "dzdy = y.grad  # gradient of z with respect to y: 2 * y = 4 * x\n",
        "\n",
        "print(x.grad)"
      ]
    },
    {
      "cell_type": "code",
      "execution_count": null,
      "id": "1bd83384",
      "metadata": {
        "id": "1bd83384"
      },
      "outputs": [],
      "source": [
        "import matplotlib.pyplot as plt\n",
        "\n",
        "# Plot the function and gradients with respect to variables used in its graph\n",
        "# .detach() is used when the computation graph is no longer needed\n",
        "plt.plot(x.detach(), z.detach(), label='z')\n",
        "plt.plot(x.detach(), dzdx, '.', label='dz/dx')\n",
        "plt.plot(x.detach(), dzdy, '.', label='dz/dy')\n",
        "\n",
        "plt.legend()\n",
        "plt.grid(True)\n",
        "plt.show()"
      ]
    },
    {
      "cell_type": "markdown",
      "id": "66fee16d",
      "metadata": {
        "id": "66fee16d"
      },
      "source": [
        "## Neural Networks"
      ]
    },
    {
      "cell_type": "code",
      "execution_count": null,
      "id": "e42898c5",
      "metadata": {
        "id": "e42898c5"
      },
      "outputs": [],
      "source": [
        "model = torch.nn.Linear(2, 3)  # input size: 2 and output size: 3\n",
        "x = torch.tensor([[1., 2.]])  # input\n",
        "y = model(x)  # output\n",
        "\n",
        "# access weight parameters\n",
        "model.weight.data  # returns a tensor of shape (3, 2)\n",
        "model.bias.data  # returns a tensor of shape (3)"
      ]
    },
    {
      "cell_type": "markdown",
      "id": "66f3d56c",
      "metadata": {
        "id": "66f3d56c"
      },
      "source": [
        "## GPU Acceleration"
      ]
    },
    {
      "cell_type": "code",
      "execution_count": null,
      "id": "1787b180",
      "metadata": {
        "id": "1787b180"
      },
      "outputs": [],
      "source": [
        "device = torch.device('cuda' if torch.cuda.is_available() else 'cpu')\n",
        "\n",
        "a = torch.ones(4, device=device)  # cuda\n",
        "b = torch.ones(4)  # cpu\n",
        "\n",
        "# transfer to CUDA\n",
        "b = b.to(device)\n",
        "model = model.to(device)\n",
        "\n",
        "# transfer back to CPU\n",
        "a.cpu()"
      ]
    }
  ],
  "metadata": {
    "kernelspec": {
      "display_name": "Python 3",
      "language": "python",
      "name": "python3"
    },
    "language_info": {
      "codemirror_mode": {
        "name": "ipython",
        "version": 3
      },
      "file_extension": ".py",
      "mimetype": "text/x-python",
      "name": "python",
      "nbconvert_exporter": "python",
      "pygments_lexer": "ipython3",
      "version": "3.8.10"
    },
    "colab": {
      "provenance": []
    }
  },
  "nbformat": 4,
  "nbformat_minor": 5
}